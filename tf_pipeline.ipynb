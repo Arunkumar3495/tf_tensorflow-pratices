{
 "cells": [
  {
   "cell_type": "code",
   "execution_count": 1,
   "id": "45589485",
   "metadata": {},
   "outputs": [],
   "source": [
    "import tensorflow as tf"
   ]
  },
  {
   "cell_type": "code",
   "execution_count": 2,
   "id": "5154d248",
   "metadata": {},
   "outputs": [],
   "source": [
    "daily_sales = [22,54,-103,44,-1,-23,34]"
   ]
  },
  {
   "cell_type": "code",
   "execution_count": 3,
   "id": "b6e22982",
   "metadata": {},
   "outputs": [
    {
     "data": {
      "text/plain": [
       "<_TensorSliceDataset element_spec=TensorSpec(shape=(), dtype=tf.int32, name=None)>"
      ]
     },
     "execution_count": 3,
     "metadata": {},
     "output_type": "execute_result"
    }
   ],
   "source": [
    "tf_dataset = tf.data.Dataset.from_tensor_slices(daily_sales)\n",
    "tf_dataset"
   ]
  },
  {
   "cell_type": "code",
   "execution_count": 5,
   "id": "3ddd3785",
   "metadata": {},
   "outputs": [
    {
     "name": "stdout",
     "output_type": "stream",
     "text": [
      "22\n",
      "54\n",
      "-103\n",
      "44\n",
      "-1\n",
      "-23\n",
      "34\n"
     ]
    }
   ],
   "source": [
    "for i in tf_dataset:\n",
    "    print(i.numpy())"
   ]
  },
  {
   "cell_type": "code",
   "execution_count": 7,
   "id": "d0e2b551",
   "metadata": {},
   "outputs": [
    {
     "name": "stdout",
     "output_type": "stream",
     "text": [
      "22\n",
      "54\n",
      "-103\n",
      "44\n",
      "-1\n",
      "-23\n",
      "34\n"
     ]
    }
   ],
   "source": [
    "for i in tf_dataset.as_numpy_iterator():\n",
    "    print(i)"
   ]
  },
  {
   "cell_type": "code",
   "execution_count": 10,
   "id": "94a98110",
   "metadata": {},
   "outputs": [
    {
     "name": "stdout",
     "output_type": "stream",
     "text": [
      "22\n",
      "54\n",
      "-103\n"
     ]
    }
   ],
   "source": [
    "for i in tf_dataset.take(3):\n",
    "    print(i.numpy()) "
   ]
  },
  {
   "cell_type": "code",
   "execution_count": 12,
   "id": "e7d2e007",
   "metadata": {},
   "outputs": [
    {
     "name": "stdout",
     "output_type": "stream",
     "text": [
      "22\n",
      "54\n",
      "44\n"
     ]
    }
   ],
   "source": [
    "tf_dataset = tf_dataset.filter(lambda x : x>0)\n",
    "for i in tf_dataset.take(3):\n",
    "    print(i.numpy())"
   ]
  },
  {
   "cell_type": "code",
   "execution_count": 13,
   "id": "a6534c64",
   "metadata": {},
   "outputs": [
    {
     "name": "stdout",
     "output_type": "stream",
     "text": [
      "1804\n",
      "4428\n",
      "3608\n",
      "2788\n"
     ]
    }
   ],
   "source": [
    "# map function\n",
    "tf_dataset = tf_dataset.map(lambda x:x*82)\n",
    "for i in tf_dataset:\n",
    "    print(i.numpy())"
   ]
  },
  {
   "cell_type": "code",
   "execution_count": 14,
   "id": "c58ac158",
   "metadata": {},
   "outputs": [
    {
     "name": "stdout",
     "output_type": "stream",
     "text": [
      "1804\n",
      "4428\n",
      "3608\n",
      "2788\n"
     ]
    }
   ],
   "source": [
    "\n",
    "for i in tf_dataset:\n",
    "    print(i.numpy())"
   ]
  },
  {
   "cell_type": "code",
   "execution_count": 16,
   "id": "472b75ff",
   "metadata": {},
   "outputs": [
    {
     "name": "stdout",
     "output_type": "stream",
     "text": [
      "[1804 4428]\n",
      "[3608 2788]\n"
     ]
    }
   ],
   "source": [
    "for sales_pitch in tf_dataset.batch(2):\n",
    "    print(sales_pitch.numpy())"
   ]
  },
  {
   "cell_type": "code",
   "execution_count": 17,
   "id": "0f0d1dde",
   "metadata": {},
   "outputs": [
    {
     "name": "stdout",
     "output_type": "stream",
     "text": [
      "[1804 4428 3608]\n",
      "[2788]\n"
     ]
    }
   ],
   "source": [
    "for sales_pitch in tf_dataset.batch(3):\n",
    "    print(sales_pitch.numpy())"
   ]
  },
  {
   "cell_type": "code",
   "execution_count": 22,
   "id": "f71aeea7",
   "metadata": {},
   "outputs": [],
   "source": [
    "sales_number = [23,34,56,57,67,-23,-67,34]"
   ]
  },
  {
   "cell_type": "code",
   "execution_count": 24,
   "id": "031db3e0",
   "metadata": {},
   "outputs": [
    {
     "name": "stdout",
     "output_type": "stream",
     "text": [
      "[1886 2788]\n",
      "[4592 4674]\n",
      "[2788 5494]\n"
     ]
    }
   ],
   "source": [
    "tf_dataset = tf.data.Dataset.from_tensor_slices(sales_number)\n",
    "tf_dataset = tf_dataset.filter(lambda x:x>0).map(lambda y:y*82).shuffle(2).batch(2)\n",
    "for i in tf_dataset:\n",
    "    print(i.numpy())"
   ]
  },
  {
   "cell_type": "code",
   "execution_count": null,
   "id": "71bd699c",
   "metadata": {},
   "outputs": [],
   "source": []
  },
  {
   "cell_type": "code",
   "execution_count": null,
   "id": "91570769",
   "metadata": {},
   "outputs": [],
   "source": []
  }
 ],
 "metadata": {
  "kernelspec": {
   "display_name": "Python 3 (ipykernel)",
   "language": "python",
   "name": "python3"
  },
  "language_info": {
   "codemirror_mode": {
    "name": "ipython",
    "version": 3
   },
   "file_extension": ".py",
   "mimetype": "text/x-python",
   "name": "python",
   "nbconvert_exporter": "python",
   "pygments_lexer": "ipython3",
   "version": "3.9.13"
  }
 },
 "nbformat": 4,
 "nbformat_minor": 5
}
